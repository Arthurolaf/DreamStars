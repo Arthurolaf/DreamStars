{
 "cells": [
  {
   "attachments": {},
   "cell_type": "markdown",
   "metadata": {},
   "source": [
    "Рисует рандомные точки.. Уже неплохо Будут звездами по умолчанию Там размебермся как потом сохранять как карту и подгружать."
   ]
  },
  {
   "cell_type": "code",
   "execution_count": 1,
   "metadata": {},
   "outputs": [
    {
     "data": {
      "text/plain": [
       "0"
      ]
     },
     "execution_count": 1,
     "metadata": {},
     "output_type": "execute_result"
    }
   ],
   "source": [
    "import sys\n",
    "from PyQt5 import QtCore, QtGui, QtWidgets, uic\n",
    "from PyQt5.QtCore import Qt\n",
    "\n",
    "\n",
    "class MainWindow(QtWidgets.QMainWindow):\n",
    "    def __init__(self):\n",
    "        super().__init__()\n",
    "\n",
    "        self.label = QtWidgets.QLabel()\n",
    "        canvas = QtGui.QPixmap(400, 300)\n",
    "        canvas.fill(Qt.white)\n",
    "        self.label.setPixmap(canvas)\n",
    "        self.setCentralWidget(self.label)\n",
    "        self.draw_something()\n",
    "\n",
    "    def draw_something(self):\n",
    "        painter = QtGui.QPainter(self.label.pixmap())\n",
    "        painter.drawLine(10, 10, 300, 200)\n",
    "        painter.end()\n",
    "\n",
    "    def draw_something(self):\n",
    "        from random import randint, choice\n",
    "        colors = ['#FFD141', '#376F9F', '#0D1F2D', '#E9EBEF', '#EB5160']\n",
    "\n",
    "        painter = QtGui.QPainter(self.label.pixmap())\n",
    "        pen = QtGui.QPen()\n",
    "        pen.setWidth(3)\n",
    "        painter.setPen(pen)\n",
    "\n",
    "        for n in range(10000):\n",
    "            # pen = painter.pen() you could get the active pen here\n",
    "            pen.setColor(QtGui.QColor(choice(colors)))\n",
    "            painter.setPen(pen)\n",
    "            painter.drawPoint(\n",
    "                200+randint(-100, 100),  # x\n",
    "                150+randint(-100, 100)   # y\n",
    "                )\n",
    "        painter.end()\n",
    "\n",
    "app = QtWidgets.QApplication(sys.argv)\n",
    "window = MainWindow()\n",
    "window.show()\n",
    "app.exec_()"
   ]
  },
  {
   "attachments": {},
   "cell_type": "markdown",
   "metadata": {},
   "source": [
    "Бесполезный пока круг.. (Но позже возможно будет полезным)"
   ]
  },
  {
   "cell_type": "code",
   "execution_count": 2,
   "metadata": {},
   "outputs": [
    {
     "name": "stderr",
     "output_type": "stream",
     "text": [
      "C:\\Users\\Artur.Abaidulov\\AppData\\Local\\Temp\\ipykernel_4620\\226764062.py:16: DeprecationWarning: an integer is required (got type float).  Implicit conversion to integers using __int__ is deprecated, and may be removed in a future version of Python.\n",
      "  self.animation = QVariantAnimation(startValue=0., endValue=1.,\n",
      "C:\\Users\\Artur.Abaidulov\\AppData\\Local\\Temp\\ipykernel_4620\\226764062.py:78: DeprecationWarning: an integer is required (got type float).  Implicit conversion to integers using __int__ is deprecated, and may be removed in a future version of Python.\n",
      "  self.animation.setCurrentTime(start * self.animation.duration())\n"
     ]
    },
    {
     "ename": "SystemExit",
     "evalue": "0",
     "output_type": "error",
     "traceback": [
      "An exception has occurred, use %tb to see the full traceback.\n",
      "\u001b[1;31mSystemExit\u001b[0m\u001b[1;31m:\u001b[0m 0\n"
     ]
    },
    {
     "name": "stderr",
     "output_type": "stream",
     "text": [
      "c:\\Users\\Artur.Abaidulov\\AppData\\Local\\Programs\\Python\\Python39\\lib\\site-packages\\IPython\\core\\interactiveshell.py:3441: UserWarning: To exit: use 'exit', 'quit', or Ctrl-D.\n",
      "  warn(\"To exit: use 'exit', 'quit', or Ctrl-D.\", stacklevel=1)\n"
     ]
    }
   ],
   "source": [
    "from PyQt5.QtWidgets import QApplication, QMainWindow, QWidget\n",
    "from PyQt5.QtGui import QIcon, QPainter, QPen, QPixmap, QPainterPath\n",
    "from PyQt5.QtCore import Qt, QRectF, QPoint, QPointF, QVariantAnimation\n",
    "from PyQt5 import QtGui\n",
    "from PyQt5.QtGui import QPainter, QPen, QBrush\n",
    "\n",
    "class CirclingWidget(QWidget):\n",
    "    offset = QPoint()\n",
    "    def __init__(self, diameter=1, relative=True, sprite=None, \n",
    "            anglesPerSecond=360, clockwise=True, offset=None, alignment=None):\n",
    "        super().__init__()\n",
    "        self.diameter = diameter\n",
    "        self.relative = relative\n",
    "        self.clockwise = clockwise\n",
    "        self.setSprite(sprite, offset or alignment)\n",
    "        self.animation = QVariantAnimation(startValue=0., endValue=1., \n",
    "            duration=360000 / anglesPerSecond, loopCount=-1)\n",
    "        self.animation.valueChanged.connect(self.update)\n",
    "\n",
    "    def setSprite(self, sprite, arg):\n",
    "        if isinstance(sprite, str):\n",
    "            sprite = QPixmap(sprite)\n",
    "        if isinstance(sprite, QPixmap) and not sprite.isNull():\n",
    "            self.sprite = sprite\n",
    "            if isinstance(arg, Qt.AlignmentFlag):\n",
    "                self.setAlignment(arg)\n",
    "            else:\n",
    "                self.setOffset(arg)\n",
    "        else:\n",
    "            self.sprite = None\n",
    "        self.update()\n",
    "\n",
    "    def setAlignment(self, alignment=None):\n",
    "        if self.sprite:\n",
    "            x = y = 0\n",
    "            if alignment is not None:\n",
    "                if alignment & Qt.AlignHCenter:\n",
    "                    x = -self.sprite.width() / 2\n",
    "                elif alignment & Qt.AlignRight:\n",
    "                    x = -self.sprite.width()\n",
    "                if alignment & Qt.AlignVCenter:\n",
    "                    y = -self.sprite.height() / 2\n",
    "                elif alignment & Qt.AlignBottom:\n",
    "                    y = -self.sprite.height()\n",
    "            self.offset = QPointF(x, y)\n",
    "        self.update()\n",
    "\n",
    "    def setOffset(self, offset=None):\n",
    "        if self.sprite:\n",
    "            x = y = 0\n",
    "            if isinstance(offset, int):\n",
    "                x = y = offset\n",
    "            elif isinstance(offset, float):\n",
    "                x = self.sprite.width() * offset\n",
    "                y = self.sprite.height() * offset\n",
    "            elif isinstance(offset, (QPoint, QPointF)):\n",
    "                x = offset.x()\n",
    "                y = offset.y()\n",
    "            elif isinstance(offset, (tuple, list)):\n",
    "                x, y = offset\n",
    "            self.offset = QPointF(x, y)\n",
    "        self.update()\n",
    "\n",
    "    def setAnglesPerSecond(self, ratio):\n",
    "        self.animation.setDuration(360000 / ratio)\n",
    "\n",
    "    def setClockwise(self, clockwise=True):\n",
    "        if self.clockwise != clockwise:\n",
    "            self.clockwise = clockwise\n",
    "            self.animation.setCurrentTime(\n",
    "                self.animation.duration() - self.animation.currentTime())\n",
    "            self.update()\n",
    "\n",
    "    def start(self, angle=0):\n",
    "        self.animation.start()\n",
    "        # the angle is considered clockwise, starting from 12h\n",
    "        start = (angle - 90) / 360 % 1\n",
    "        self.animation.setCurrentTime(start * self.animation.duration())\n",
    "        self.update()\n",
    "\n",
    "    def stop(self):\n",
    "        self.animation.stop()\n",
    "        self.update()\n",
    "\n",
    "    def paintEvent(self, event):\n",
    "        painter  = QPainter(self)\n",
    "        painter.setRenderHints(painter.Antialiasing)\n",
    "        painter.setPen(QPen(Qt.black, 5, Qt.SolidLine))\n",
    "\n",
    "        size = self.diameter\n",
    "        if self.relative:\n",
    "            size *= min(self.width(), self.height())\n",
    "\n",
    "        rect = QRectF(0, 0, size, size)\n",
    "        rect.moveCenter(QRectF(self.rect()).center())\n",
    "\n",
    "        path = QPainterPath()\n",
    "        path.addEllipse(rect)\n",
    "        painter.drawPath(path)\n",
    "\n",
    "        if self.sprite:\n",
    "            pos = self.animation.currentValue()\n",
    "            if not self.clockwise:\n",
    "                pos = 1 - pos\n",
    "            pos = path.pointAtPercent(pos)\n",
    "            painter.drawPixmap(pos + self.offset, self.sprite)\n",
    "\n",
    "\n",
    "class Window(QMainWindow):\n",
    "    def __init__(self):\n",
    "        super().__init__()\n",
    "\n",
    "        self.title = \"Drawing Ellipse\"\n",
    "        self.top = 200\n",
    "        self.left = 200\n",
    "        self._width = 800\n",
    "        self._height = 800\n",
    "        self.InitWindow()\n",
    "\n",
    "\n",
    "    def InitWindow(self):\n",
    "        self.setWindowIcon(QIcon(\"icon.png\"))\n",
    "        self.setWindowTitle(self.title)\n",
    "        self.setGeometry(self.left, self.top, self._width, self._height)\n",
    "\n",
    "        self.circleWidget = CirclingWidget(.5, sprite='image.png', \n",
    "            anglesPerSecond=60, alignment=Qt.AlignCenter)\n",
    "        self.setCentralWidget(self.circleWidget)\n",
    "        self.circleWidget.start(90)\n",
    "\n",
    "        self.show()\n",
    "\n",
    "\n",
    "if __name__ == '__main__':\n",
    "    import sys\n",
    "    App = QApplication(sys.argv)\n",
    "    window = Window()\n",
    "    sys.exit(App.exec())"
   ]
  },
  {
   "attachments": {},
   "cell_type": "markdown",
   "metadata": {},
   "source": [
    "Радарная карта.. Посмотрим может быть, что нибудь придумаю для нее."
   ]
  },
  {
   "cell_type": "code",
   "execution_count": 1,
   "metadata": {},
   "outputs": [
    {
     "ename": "SystemExit",
     "evalue": "0",
     "output_type": "error",
     "traceback": [
      "An exception has occurred, use %tb to see the full traceback.\n",
      "\u001b[1;31mSystemExit\u001b[0m\u001b[1;31m:\u001b[0m 0\n"
     ]
    },
    {
     "name": "stderr",
     "output_type": "stream",
     "text": [
      "c:\\Users\\Artur.Abaidulov\\AppData\\Local\\Programs\\Python\\Python39\\lib\\site-packages\\IPython\\core\\interactiveshell.py:3441: UserWarning: To exit: use 'exit', 'quit', or Ctrl-D.\n",
      "  warn(\"To exit: use 'exit', 'quit', or Ctrl-D.\", stacklevel=1)\n"
     ]
    }
   ],
   "source": [
    "import sys\n",
    "import random\n",
    "from PyQt5 import QtCore, QtGui, QtWidgets\n",
    "from PyQt5.Qt import *\n",
    "from matplotlib.backends.backend_qt5agg import FigureCanvasQTAgg as FigureCanvas\n",
    "from matplotlib.backends.backend_qt5agg import NavigationToolbar2QT as NavigationToolbar\n",
    "from matplotlib.figure import Figure\n",
    "from PyQt5.QtWidgets import QApplication, QMainWindow, QWidget, QSizePolicy\n",
    "\n",
    "#from PyQt5 import QTimer\n",
    "\n",
    "class GraphInit(FigureCanvas):\n",
    "    def __init__(self, parent=None):\n",
    "        fig = Figure()\n",
    "        self.axes = fig.add_subplot(111, projection=\"polar\")\n",
    "        self.compute_initial_figure()\n",
    "\n",
    "        FigureCanvas.__init__(self, fig)\n",
    "        self.setParent(parent)\n",
    "\n",
    "        FigureCanvas.setSizePolicy(self, QSizePolicy.Expanding, QSizePolicy.Expanding)\n",
    "        FigureCanvas.updateGeometry(self)\n",
    "\n",
    "\n",
    "class GraphPopulate(GraphInit):\n",
    "    def compute_initial_figure(self):\n",
    "        self.r =[10, 20, 30, 40, 50, 60, 70, 80, 90, 100]\n",
    "        angles = [1, 2, 3, 4, 5, 6, 7, 8, 9, 10]\n",
    "        self.axes.plot(angles, self.r, 'bo', ms=5)\n",
    "        \n",
    "    def _polar(self):\n",
    "        self.axes.clear()\n",
    "        for i in range(20):\n",
    "            angles = random.choices(range(50), k=10)\n",
    "            ms = random.randint(1, 7)\n",
    "            self.axes.plot(angles, self.r, 'bo', ms=ms)\n",
    "        self.draw()\n",
    "\n",
    "\n",
    "class GUI(QMainWindow):\n",
    "    def __init__(self):\n",
    "        super().__init__()\n",
    "        self.centralwidget = QtWidgets.QWidget()\n",
    "        self.setCentralWidget(self.centralwidget)\n",
    "        self.setMinimumSize(QtCore.QSize(270, 270))\n",
    "        \n",
    "        self.widget = QtWidgets.QWidget(self.centralwidget)\n",
    "        self.sc = GraphPopulate(self.widget)\n",
    "        self.gridLayout = QtWidgets.QGridLayout(self.centralwidget)\n",
    "        self.gridLayout.addWidget(self.sc)\n",
    "        \n",
    "        self.timer = QtCore.QTimer()\n",
    "        self.timer.timeout.connect(self.update_polar)\n",
    "        self.timer.start(1000)\n",
    "        \n",
    "    def update_polar(self):\n",
    "        self.sc._polar()\n",
    "\n",
    "\n",
    "if __name__ == '__main__':\n",
    "    app = QApplication(sys.argv)\n",
    "    w = GUI()\n",
    "    #w.resize(600, 600)\n",
    "    w.show()\n",
    "    sys.exit(app.exec_())"
   ]
  },
  {
   "attachments": {},
   "cell_type": "markdown",
   "metadata": {},
   "source": [
    "Нашел отдельно движущуюся линию Уже хорошо. Будет линией линейки от планеты до планеты.."
   ]
  },
  {
   "cell_type": "code",
   "execution_count": 1,
   "metadata": {},
   "outputs": [
    {
     "ename": "SystemExit",
     "evalue": "0",
     "output_type": "error",
     "traceback": [
      "An exception has occurred, use %tb to see the full traceback.\n",
      "\u001b[1;31mSystemExit\u001b[0m\u001b[1;31m:\u001b[0m 0\n"
     ]
    },
    {
     "name": "stderr",
     "output_type": "stream",
     "text": [
      "c:\\Users\\Artur.Abaidulov\\AppData\\Local\\Programs\\Python\\Python39\\lib\\site-packages\\IPython\\core\\interactiveshell.py:3441: UserWarning: To exit: use 'exit', 'quit', or Ctrl-D.\n",
      "  warn(\"To exit: use 'exit', 'quit', or Ctrl-D.\", stacklevel=1)\n"
     ]
    }
   ],
   "source": [
    "import sys\n",
    "from PyQt5.QtWidgets import QMainWindow, QPushButton, QApplication\n",
    "from PyQt5.QtWidgets import QApplication, QGraphicsView, QGraphicsScene, QGraphicsEllipseItem\n",
    "\n",
    "\n",
    "\n",
    "from PyQt5.QtCore import QSize, Qt, QLine, QPoint\n",
    "from PyQt5.QtGui import QPainter, QPen, QCursor\n",
    "\n",
    "class GraphicView(QGraphicsView):\n",
    "    def __init__(self):\n",
    "        super().__init__()\n",
    "\n",
    "        self.scene = QGraphicsScene()\n",
    "        self.setScene(self.scene)       \n",
    "        self.setSceneRect(300, 300, 1200, 1000)\n",
    "\n",
    "class MainWindow(QMainWindow):\n",
    "    def __init__(self):\n",
    "        QMainWindow.__init__(self)\n",
    "\n",
    "        # set window size\n",
    "        self.setMinimumSize(QSize(500, 500))\n",
    "\n",
    "        # create main button\n",
    "        self.pybutton = QPushButton('button', self)\n",
    "        self.pybutton.resize(100, 100)\n",
    "        \n",
    "        # Crate second button\n",
    "        self.pybutton2 = QPushButton('b2', self)\n",
    "        self.pybutton2.resize(10, 10)\n",
    "        self.space = GraphicView()\n",
    "        # inicialise line \n",
    "        self.line = QLine()\n",
    "        #self.statusBar()\n",
    "        self.space\n",
    "\n",
    "    def draw_line(self,x,y,x1=0,y1=0):\n",
    "        #sender = self.sender()\n",
    "        pos=QPoint(x,y)\n",
    "        #self.statusBar().showMessage(sender.text() + ' was pressed')\n",
    "        self.line = QLine(QPoint(x1,y1),pos)\n",
    "        self.update()\n",
    "\n",
    "    def paintEvent(self, event):\n",
    "        # QMainWindow.paintEvent(self, event)\n",
    "\n",
    "        qp = QPainter()\n",
    "        qp.begin(self)\n",
    "        pen = QPen(Qt.red, 2, Qt.SolidLine)\n",
    "        qp.setPen(pen)\n",
    "        qp.drawLine(self.line)\n",
    "        qp.end()\n",
    "\n",
    "    #def mousePressEvent(self, event):\n",
    "     #   self.pybutton.move(event.x(), event.y())\n",
    "\n",
    "    def mouseMoveEvent(self,vent):\n",
    "        self.pybutton.move(vent.x(),vent.y())\n",
    "        self.pybutton2.click()\n",
    "        self.draw_line(vent.x(),vent.y())\n",
    "\n",
    "\n",
    "\n",
    "if __name__ == \"__main__\":\n",
    "    app = QApplication(sys.argv)\n",
    "    mainWin = MainWindow()\n",
    "    mainWin.show()\n",
    "    sys.exit(app.exec_())"
   ]
  },
  {
   "attachments": {},
   "cell_type": "markdown",
   "metadata": {},
   "source": [
    "https://www.pythonguis.com/tutorials/pyqt-layouts/\n",
    "Очень полезный рессурс .. Тут описано как делать слои .. Думаю карта будет у меня прорисована слоями в зависимости от того, кому на какой слой можно смотреть.\n",
    "\n",
    "\n",
    "https://www.pythonguis.com/tutorials/qscrollarea/\n",
    "scroll in window  (Если карта большая то скрол понадобится надеюсь получится научить этому окно.)\n"
   ]
  },
  {
   "attachments": {},
   "cell_type": "markdown",
   "metadata": {},
   "source": [
    "Полезная штука для рисования карты. Думаю подойдет (поиграю посмотрим.)"
   ]
  },
  {
   "cell_type": "code",
   "execution_count": 1,
   "metadata": {},
   "outputs": [
    {
     "ename": "SystemExit",
     "evalue": "0",
     "output_type": "error",
     "traceback": [
      "An exception has occurred, use %tb to see the full traceback.\n",
      "\u001b[1;31mSystemExit\u001b[0m\u001b[1;31m:\u001b[0m 0\n"
     ]
    },
    {
     "name": "stderr",
     "output_type": "stream",
     "text": [
      "c:\\Users\\Artur.Abaidulov\\AppData\\Local\\Programs\\Python\\Python39\\lib\\site-packages\\IPython\\core\\interactiveshell.py:3441: UserWarning: To exit: use 'exit', 'quit', or Ctrl-D.\n",
      "  warn(\"To exit: use 'exit', 'quit', or Ctrl-D.\", stacklevel=1)\n"
     ]
    }
   ],
   "source": [
    "import sys\n",
    "from PyQt5.QtWidgets import QApplication, QGraphicsView, QGraphicsScene, QGraphicsEllipseItem\n",
    "from PyQt5.QtCore import Qt, QPointF\n",
    "\n",
    "\n",
    "class MovingObject(QGraphicsEllipseItem):\n",
    "    def __init__(self, x, y, r):\n",
    "        super().__init__(0, 0, r, r)\n",
    "        self.setPos(x, y)\n",
    "        self.setBrush(Qt.blue)\n",
    "        self.setAcceptHoverEvents(True)\n",
    "\n",
    "    # mouse hover event\n",
    "    def hoverEnterEvent(self, event):\n",
    "        app.instance().setOverrideCursor(Qt.OpenHandCursor)\n",
    "\n",
    "    def hoverLeaveEvent(self, event):\n",
    "        app.instance().restoreOverrideCursor()\n",
    "\n",
    "    # mouse click event\n",
    "    def mousePressEvent(self, event):\n",
    "        pass\n",
    "\n",
    "    def mouseMoveEvent(self, event):\n",
    "        orig_cursor_position = event.lastScenePos()\n",
    "        updated_cursor_position = event.scenePos()\n",
    "\n",
    "        orig_position = self.scenePos()\n",
    "\n",
    "        updated_cursor_x = updated_cursor_position.x() - orig_cursor_position.x() + orig_position.x()\n",
    "        updated_cursor_y = updated_cursor_position.y() - orig_cursor_position.y() + orig_position.y()\n",
    "        self.setPos(QPointF(updated_cursor_x, updated_cursor_y))\n",
    "        self.draw_line(event.x(),event.y())\n",
    "\n",
    "    def mouseReleaseEvent(self, event):\n",
    "        print('x: {0}, y: {1}'.format(self.pos().x(), self.pos().y()))\n",
    "\n",
    "    def draw_line(self,x,y,x1=0,y1=0):\n",
    "        #sender = self.sender()\n",
    "        pos=QPoint(x,y)\n",
    "        #self.statusBar().showMessage(sender.text() + ' was pressed')\n",
    "        self.line = QLine(QPoint(x1,y1),pos)\n",
    "        self.update()\n",
    "\n",
    "    def paintEvent(self, event):\n",
    "        # QMainWindow.paintEvent(self, event)\n",
    "\n",
    "        qp = QPainter()\n",
    "        qp.begin(self)\n",
    "        pen = QPen(Qt.red, 2, Qt.SolidLine)\n",
    "        qp.setPen(pen)\n",
    "        qp.drawLine(self.line)\n",
    "        qp.end()    \n",
    "\n",
    "class GraphicView(QGraphicsView):\n",
    "    def __init__(self):\n",
    "        super().__init__()\n",
    "\n",
    "        self.scene = QGraphicsScene()\n",
    "        self.setScene(self.scene)       \n",
    "        self.setSceneRect(0, 0, 1200, 1000)\n",
    "\n",
    "        self.moveObject = MovingObject(50, 50, 40)\n",
    "        #self.moveObject2 = MovingObject(100, 100, 100)\n",
    "        self.scene.addItem(self.moveObject)\n",
    "        #self.scene.addItem(self.moveObject2)\n",
    "\n",
    "    \n",
    "\n",
    "\n",
    "app = QApplication(sys.argv)\n",
    "view = GraphicView()\n",
    "view.show()\n",
    "sys.exit(app.exec_())"
   ]
  },
  {
   "attachments": {},
   "cell_type": "markdown",
   "metadata": {},
   "source": [
    "ПРоверяю код окна в окне    \n",
    "\n",
    "Ураааа добился того, что я могу размещать в нужном месте нужное окно (только с сайзингом окна пока туговато, но думаю не страшно, когда все заполнится.)\n",
    "Я пока крайней мере могу разместить каркас в нужных местах А там видно будет."
   ]
  },
  {
   "cell_type": "code",
   "execution_count": 2,
   "metadata": {},
   "outputs": [
    {
     "ename": "NameError",
     "evalue": "name 'QtWidgets' is not defined",
     "output_type": "error",
     "traceback": [
      "\u001b[1;31m---------------------------------------------------------------------------\u001b[0m",
      "\u001b[1;31mNameError\u001b[0m                                 Traceback (most recent call last)",
      "\u001b[1;32mc:\\Users\\Artur.Abaidulov\\Projects\\Test_python_mp\\bitmappainter.ipynb Cell 13\u001b[0m in \u001b[0;36m1\n\u001b[0;32m     <a href='vscode-notebook-cell:/c%3A/Users/Artur.Abaidulov/Projects/Test_python_mp/bitmappainter.ipynb#X15sZmlsZQ%3D%3D?line=11'>12</a>\u001b[0m \u001b[39mdef\u001b[39;00m \u001b[39mmousePressEvent\u001b[39m(\u001b[39mself\u001b[39m, event):\n\u001b[0;32m     <a href='vscode-notebook-cell:/c%3A/Users/Artur.Abaidulov/Projects/Test_python_mp/bitmappainter.ipynb#X15sZmlsZQ%3D%3D?line=12'>13</a>\u001b[0m     \u001b[39mself\u001b[39m\u001b[39m.\u001b[39moriginQPoint \u001b[39m=\u001b[39m event\u001b[39m.\u001b[39mscreenPos()\n\u001b[1;32m---> <a href='vscode-notebook-cell:/c%3A/Users/Artur.Abaidulov/Projects/Test_python_mp/bitmappainter.ipynb#X15sZmlsZQ%3D%3D?line=13'>14</a>\u001b[0m     \u001b[39mself\u001b[39m\u001b[39m.\u001b[39mcurrentQRubberBand \u001b[39m=\u001b[39m QtWidgets\u001b[39m.\u001b[39mQRubberBand(QRubberBand\u001b[39m.\u001b[39mRectangle)\n\u001b[0;32m     <a href='vscode-notebook-cell:/c%3A/Users/Artur.Abaidulov/Projects/Test_python_mp/bitmappainter.ipynb#X15sZmlsZQ%3D%3D?line=14'>15</a>\u001b[0m     \u001b[39mself\u001b[39m\u001b[39m.\u001b[39moriginCropPoint \u001b[39m=\u001b[39m event\u001b[39m.\u001b[39mscenePos()\n",
      "\u001b[1;31mNameError\u001b[0m: name 'QtWidgets' is not defined"
     ]
    },
    {
     "ename": "AttributeError",
     "evalue": "'Scene' object has no attribute 'currentQRubberBand'",
     "output_type": "error",
     "traceback": [
      "\u001b[1;31m---------------------------------------------------------------------------\u001b[0m",
      "\u001b[1;31mAttributeError\u001b[0m                            Traceback (most recent call last)",
      "\u001b[1;32mc:\\Users\\Artur.Abaidulov\\Projects\\Test_python_mp\\bitmappainter.ipynb Cell 13\u001b[0m in \u001b[0;36m1\n\u001b[0;32m     <a href='vscode-notebook-cell:/c%3A/Users/Artur.Abaidulov/Projects/Test_python_mp/bitmappainter.ipynb#X15sZmlsZQ%3D%3D?line=16'>17</a>\u001b[0m \u001b[39mdef\u001b[39;00m \u001b[39mmouseMoveEvent\u001b[39m(\u001b[39mself\u001b[39m, event):\n\u001b[1;32m---> <a href='vscode-notebook-cell:/c%3A/Users/Artur.Abaidulov/Projects/Test_python_mp/bitmappainter.ipynb#X15sZmlsZQ%3D%3D?line=17'>18</a>\u001b[0m     \u001b[39mself\u001b[39;49m\u001b[39m.\u001b[39;49mcurrentQRubberBand\u001b[39m.\u001b[39msetGeometry(QRect(\u001b[39mself\u001b[39m\u001b[39m.\u001b[39moriginQPoint, event\u001b[39m.\u001b[39mscreenPos()))\n\u001b[0;32m     <a href='vscode-notebook-cell:/c%3A/Users/Artur.Abaidulov/Projects/Test_python_mp/bitmappainter.ipynb#X15sZmlsZQ%3D%3D?line=18'>19</a>\u001b[0m     \u001b[39mself\u001b[39m\u001b[39m.\u001b[39mcurrentQRubberBand\u001b[39m.\u001b[39mshow()\n",
      "\u001b[1;31mAttributeError\u001b[0m: 'Scene' object has no attribute 'currentQRubberBand'"
     ]
    },
    {
     "ename": "AttributeError",
     "evalue": "'Scene' object has no attribute 'currentQRubberBand'",
     "output_type": "error",
     "traceback": [
      "\u001b[1;31m---------------------------------------------------------------------------\u001b[0m",
      "\u001b[1;31mAttributeError\u001b[0m                            Traceback (most recent call last)",
      "\u001b[1;32mc:\\Users\\Artur.Abaidulov\\Projects\\Test_python_mp\\bitmappainter.ipynb Cell 13\u001b[0m in \u001b[0;36m1\n\u001b[0;32m     <a href='vscode-notebook-cell:/c%3A/Users/Artur.Abaidulov/Projects/Test_python_mp/bitmappainter.ipynb#X15sZmlsZQ%3D%3D?line=16'>17</a>\u001b[0m \u001b[39mdef\u001b[39;00m \u001b[39mmouseMoveEvent\u001b[39m(\u001b[39mself\u001b[39m, event):\n\u001b[1;32m---> <a href='vscode-notebook-cell:/c%3A/Users/Artur.Abaidulov/Projects/Test_python_mp/bitmappainter.ipynb#X15sZmlsZQ%3D%3D?line=17'>18</a>\u001b[0m     \u001b[39mself\u001b[39;49m\u001b[39m.\u001b[39;49mcurrentQRubberBand\u001b[39m.\u001b[39msetGeometry(QRect(\u001b[39mself\u001b[39m\u001b[39m.\u001b[39moriginQPoint, event\u001b[39m.\u001b[39mscreenPos()))\n\u001b[0;32m     <a href='vscode-notebook-cell:/c%3A/Users/Artur.Abaidulov/Projects/Test_python_mp/bitmappainter.ipynb#X15sZmlsZQ%3D%3D?line=18'>19</a>\u001b[0m     \u001b[39mself\u001b[39m\u001b[39m.\u001b[39mcurrentQRubberBand\u001b[39m.\u001b[39mshow()\n",
      "\u001b[1;31mAttributeError\u001b[0m: 'Scene' object has no attribute 'currentQRubberBand'"
     ]
    },
    {
     "ename": "AttributeError",
     "evalue": "'Scene' object has no attribute 'currentQRubberBand'",
     "output_type": "error",
     "traceback": [
      "\u001b[1;31m---------------------------------------------------------------------------\u001b[0m",
      "\u001b[1;31mAttributeError\u001b[0m                            Traceback (most recent call last)",
      "\u001b[1;32mc:\\Users\\Artur.Abaidulov\\Projects\\Test_python_mp\\bitmappainter.ipynb Cell 13\u001b[0m in \u001b[0;36m1\n\u001b[0;32m     <a href='vscode-notebook-cell:/c%3A/Users/Artur.Abaidulov/Projects/Test_python_mp/bitmappainter.ipynb#X15sZmlsZQ%3D%3D?line=16'>17</a>\u001b[0m \u001b[39mdef\u001b[39;00m \u001b[39mmouseMoveEvent\u001b[39m(\u001b[39mself\u001b[39m, event):\n\u001b[1;32m---> <a href='vscode-notebook-cell:/c%3A/Users/Artur.Abaidulov/Projects/Test_python_mp/bitmappainter.ipynb#X15sZmlsZQ%3D%3D?line=17'>18</a>\u001b[0m     \u001b[39mself\u001b[39;49m\u001b[39m.\u001b[39;49mcurrentQRubberBand\u001b[39m.\u001b[39msetGeometry(QRect(\u001b[39mself\u001b[39m\u001b[39m.\u001b[39moriginQPoint, event\u001b[39m.\u001b[39mscreenPos()))\n\u001b[0;32m     <a href='vscode-notebook-cell:/c%3A/Users/Artur.Abaidulov/Projects/Test_python_mp/bitmappainter.ipynb#X15sZmlsZQ%3D%3D?line=18'>19</a>\u001b[0m     \u001b[39mself\u001b[39m\u001b[39m.\u001b[39mcurrentQRubberBand\u001b[39m.\u001b[39mshow()\n",
      "\u001b[1;31mAttributeError\u001b[0m: 'Scene' object has no attribute 'currentQRubberBand'"
     ]
    },
    {
     "ename": "AttributeError",
     "evalue": "'Scene' object has no attribute 'currentQRubberBand'",
     "output_type": "error",
     "traceback": [
      "\u001b[1;31m---------------------------------------------------------------------------\u001b[0m",
      "\u001b[1;31mAttributeError\u001b[0m                            Traceback (most recent call last)",
      "\u001b[1;32mc:\\Users\\Artur.Abaidulov\\Projects\\Test_python_mp\\bitmappainter.ipynb Cell 13\u001b[0m in \u001b[0;36m1\n\u001b[0;32m     <a href='vscode-notebook-cell:/c%3A/Users/Artur.Abaidulov/Projects/Test_python_mp/bitmappainter.ipynb#X15sZmlsZQ%3D%3D?line=16'>17</a>\u001b[0m \u001b[39mdef\u001b[39;00m \u001b[39mmouseMoveEvent\u001b[39m(\u001b[39mself\u001b[39m, event):\n\u001b[1;32m---> <a href='vscode-notebook-cell:/c%3A/Users/Artur.Abaidulov/Projects/Test_python_mp/bitmappainter.ipynb#X15sZmlsZQ%3D%3D?line=17'>18</a>\u001b[0m     \u001b[39mself\u001b[39;49m\u001b[39m.\u001b[39;49mcurrentQRubberBand\u001b[39m.\u001b[39msetGeometry(QRect(\u001b[39mself\u001b[39m\u001b[39m.\u001b[39moriginQPoint, event\u001b[39m.\u001b[39mscreenPos()))\n\u001b[0;32m     <a href='vscode-notebook-cell:/c%3A/Users/Artur.Abaidulov/Projects/Test_python_mp/bitmappainter.ipynb#X15sZmlsZQ%3D%3D?line=18'>19</a>\u001b[0m     \u001b[39mself\u001b[39m\u001b[39m.\u001b[39mcurrentQRubberBand\u001b[39m.\u001b[39mshow()\n",
      "\u001b[1;31mAttributeError\u001b[0m: 'Scene' object has no attribute 'currentQRubberBand'"
     ]
    },
    {
     "ename": "AttributeError",
     "evalue": "'Scene' object has no attribute 'currentQRubberBand'",
     "output_type": "error",
     "traceback": [
      "\u001b[1;31m---------------------------------------------------------------------------\u001b[0m",
      "\u001b[1;31mAttributeError\u001b[0m                            Traceback (most recent call last)",
      "\u001b[1;32mc:\\Users\\Artur.Abaidulov\\Projects\\Test_python_mp\\bitmappainter.ipynb Cell 13\u001b[0m in \u001b[0;36m1\n\u001b[0;32m     <a href='vscode-notebook-cell:/c%3A/Users/Artur.Abaidulov/Projects/Test_python_mp/bitmappainter.ipynb#X15sZmlsZQ%3D%3D?line=16'>17</a>\u001b[0m \u001b[39mdef\u001b[39;00m \u001b[39mmouseMoveEvent\u001b[39m(\u001b[39mself\u001b[39m, event):\n\u001b[1;32m---> <a href='vscode-notebook-cell:/c%3A/Users/Artur.Abaidulov/Projects/Test_python_mp/bitmappainter.ipynb#X15sZmlsZQ%3D%3D?line=17'>18</a>\u001b[0m     \u001b[39mself\u001b[39;49m\u001b[39m.\u001b[39;49mcurrentQRubberBand\u001b[39m.\u001b[39msetGeometry(QRect(\u001b[39mself\u001b[39m\u001b[39m.\u001b[39moriginQPoint, event\u001b[39m.\u001b[39mscreenPos()))\n\u001b[0;32m     <a href='vscode-notebook-cell:/c%3A/Users/Artur.Abaidulov/Projects/Test_python_mp/bitmappainter.ipynb#X15sZmlsZQ%3D%3D?line=18'>19</a>\u001b[0m     \u001b[39mself\u001b[39m\u001b[39m.\u001b[39mcurrentQRubberBand\u001b[39m.\u001b[39mshow()\n",
      "\u001b[1;31mAttributeError\u001b[0m: 'Scene' object has no attribute 'currentQRubberBand'"
     ]
    },
    {
     "ename": "AttributeError",
     "evalue": "'Scene' object has no attribute 'currentQRubberBand'",
     "output_type": "error",
     "traceback": [
      "\u001b[1;31m---------------------------------------------------------------------------\u001b[0m",
      "\u001b[1;31mAttributeError\u001b[0m                            Traceback (most recent call last)",
      "\u001b[1;32mc:\\Users\\Artur.Abaidulov\\Projects\\Test_python_mp\\bitmappainter.ipynb Cell 13\u001b[0m in \u001b[0;36m2\n\u001b[0;32m     <a href='vscode-notebook-cell:/c%3A/Users/Artur.Abaidulov/Projects/Test_python_mp/bitmappainter.ipynb#X15sZmlsZQ%3D%3D?line=20'>21</a>\u001b[0m \u001b[39mdef\u001b[39;00m \u001b[39mmouseReleaseEvent\u001b[39m(\u001b[39mself\u001b[39m, event):\n\u001b[1;32m---> <a href='vscode-notebook-cell:/c%3A/Users/Artur.Abaidulov/Projects/Test_python_mp/bitmappainter.ipynb#X15sZmlsZQ%3D%3D?line=21'>22</a>\u001b[0m     \u001b[39mself\u001b[39;49m\u001b[39m.\u001b[39;49mcurrentQRubberBand\u001b[39m.\u001b[39mhide()\n\u001b[0;32m     <a href='vscode-notebook-cell:/c%3A/Users/Artur.Abaidulov/Projects/Test_python_mp/bitmappainter.ipynb#X15sZmlsZQ%3D%3D?line=22'>23</a>\u001b[0m     currentQRect \u001b[39m=\u001b[39m \u001b[39mself\u001b[39m\u001b[39m.\u001b[39mcurrentQRubberBand\u001b[39m.\u001b[39mgeometry()\n\u001b[0;32m     <a href='vscode-notebook-cell:/c%3A/Users/Artur.Abaidulov/Projects/Test_python_mp/bitmappainter.ipynb#X15sZmlsZQ%3D%3D?line=23'>24</a>\u001b[0m     \u001b[39mself\u001b[39m\u001b[39m.\u001b[39mcurrentQRect \u001b[39m=\u001b[39m QRect(\u001b[39mself\u001b[39m\u001b[39m.\u001b[39moriginCropPoint\u001b[39m.\u001b[39mtoPoint(), event\u001b[39m.\u001b[39mscenePos()\u001b[39m.\u001b[39mtoPoint())\n",
      "\u001b[1;31mAttributeError\u001b[0m: 'Scene' object has no attribute 'currentQRubberBand'"
     ]
    },
    {
     "ename": "NameError",
     "evalue": "name 'QtWidgets' is not defined",
     "output_type": "error",
     "traceback": [
      "\u001b[1;31m---------------------------------------------------------------------------\u001b[0m",
      "\u001b[1;31mNameError\u001b[0m                                 Traceback (most recent call last)",
      "\u001b[1;32mc:\\Users\\Artur.Abaidulov\\Projects\\Test_python_mp\\bitmappainter.ipynb Cell 13\u001b[0m in \u001b[0;36m1\n\u001b[0;32m     <a href='vscode-notebook-cell:/c%3A/Users/Artur.Abaidulov/Projects/Test_python_mp/bitmappainter.ipynb#X15sZmlsZQ%3D%3D?line=11'>12</a>\u001b[0m \u001b[39mdef\u001b[39;00m \u001b[39mmousePressEvent\u001b[39m(\u001b[39mself\u001b[39m, event):\n\u001b[0;32m     <a href='vscode-notebook-cell:/c%3A/Users/Artur.Abaidulov/Projects/Test_python_mp/bitmappainter.ipynb#X15sZmlsZQ%3D%3D?line=12'>13</a>\u001b[0m     \u001b[39mself\u001b[39m\u001b[39m.\u001b[39moriginQPoint \u001b[39m=\u001b[39m event\u001b[39m.\u001b[39mscreenPos()\n\u001b[1;32m---> <a href='vscode-notebook-cell:/c%3A/Users/Artur.Abaidulov/Projects/Test_python_mp/bitmappainter.ipynb#X15sZmlsZQ%3D%3D?line=13'>14</a>\u001b[0m     \u001b[39mself\u001b[39m\u001b[39m.\u001b[39mcurrentQRubberBand \u001b[39m=\u001b[39m QtWidgets\u001b[39m.\u001b[39mQRubberBand(QRubberBand\u001b[39m.\u001b[39mRectangle)\n\u001b[0;32m     <a href='vscode-notebook-cell:/c%3A/Users/Artur.Abaidulov/Projects/Test_python_mp/bitmappainter.ipynb#X15sZmlsZQ%3D%3D?line=14'>15</a>\u001b[0m     \u001b[39mself\u001b[39m\u001b[39m.\u001b[39moriginCropPoint \u001b[39m=\u001b[39m event\u001b[39m.\u001b[39mscenePos()\n",
      "\u001b[1;31mNameError\u001b[0m: name 'QtWidgets' is not defined"
     ]
    },
    {
     "ename": "AttributeError",
     "evalue": "'Scene' object has no attribute 'currentQRubberBand'",
     "output_type": "error",
     "traceback": [
      "\u001b[1;31m---------------------------------------------------------------------------\u001b[0m",
      "\u001b[1;31mAttributeError\u001b[0m                            Traceback (most recent call last)",
      "\u001b[1;32mc:\\Users\\Artur.Abaidulov\\Projects\\Test_python_mp\\bitmappainter.ipynb Cell 13\u001b[0m in \u001b[0;36m1\n\u001b[0;32m     <a href='vscode-notebook-cell:/c%3A/Users/Artur.Abaidulov/Projects/Test_python_mp/bitmappainter.ipynb#X15sZmlsZQ%3D%3D?line=16'>17</a>\u001b[0m \u001b[39mdef\u001b[39;00m \u001b[39mmouseMoveEvent\u001b[39m(\u001b[39mself\u001b[39m, event):\n\u001b[1;32m---> <a href='vscode-notebook-cell:/c%3A/Users/Artur.Abaidulov/Projects/Test_python_mp/bitmappainter.ipynb#X15sZmlsZQ%3D%3D?line=17'>18</a>\u001b[0m     \u001b[39mself\u001b[39;49m\u001b[39m.\u001b[39;49mcurrentQRubberBand\u001b[39m.\u001b[39msetGeometry(QRect(\u001b[39mself\u001b[39m\u001b[39m.\u001b[39moriginQPoint, event\u001b[39m.\u001b[39mscreenPos()))\n\u001b[0;32m     <a href='vscode-notebook-cell:/c%3A/Users/Artur.Abaidulov/Projects/Test_python_mp/bitmappainter.ipynb#X15sZmlsZQ%3D%3D?line=18'>19</a>\u001b[0m     \u001b[39mself\u001b[39m\u001b[39m.\u001b[39mcurrentQRubberBand\u001b[39m.\u001b[39mshow()\n",
      "\u001b[1;31mAttributeError\u001b[0m: 'Scene' object has no attribute 'currentQRubberBand'"
     ]
    },
    {
     "ename": "AttributeError",
     "evalue": "'Scene' object has no attribute 'currentQRubberBand'",
     "output_type": "error",
     "traceback": [
      "\u001b[1;31m---------------------------------------------------------------------------\u001b[0m",
      "\u001b[1;31mAttributeError\u001b[0m                            Traceback (most recent call last)",
      "\u001b[1;32mc:\\Users\\Artur.Abaidulov\\Projects\\Test_python_mp\\bitmappainter.ipynb Cell 13\u001b[0m in \u001b[0;36m1\n\u001b[0;32m     <a href='vscode-notebook-cell:/c%3A/Users/Artur.Abaidulov/Projects/Test_python_mp/bitmappainter.ipynb#X15sZmlsZQ%3D%3D?line=16'>17</a>\u001b[0m \u001b[39mdef\u001b[39;00m \u001b[39mmouseMoveEvent\u001b[39m(\u001b[39mself\u001b[39m, event):\n\u001b[1;32m---> <a href='vscode-notebook-cell:/c%3A/Users/Artur.Abaidulov/Projects/Test_python_mp/bitmappainter.ipynb#X15sZmlsZQ%3D%3D?line=17'>18</a>\u001b[0m     \u001b[39mself\u001b[39;49m\u001b[39m.\u001b[39;49mcurrentQRubberBand\u001b[39m.\u001b[39msetGeometry(QRect(\u001b[39mself\u001b[39m\u001b[39m.\u001b[39moriginQPoint, event\u001b[39m.\u001b[39mscreenPos()))\n\u001b[0;32m     <a href='vscode-notebook-cell:/c%3A/Users/Artur.Abaidulov/Projects/Test_python_mp/bitmappainter.ipynb#X15sZmlsZQ%3D%3D?line=18'>19</a>\u001b[0m     \u001b[39mself\u001b[39m\u001b[39m.\u001b[39mcurrentQRubberBand\u001b[39m.\u001b[39mshow()\n",
      "\u001b[1;31mAttributeError\u001b[0m: 'Scene' object has no attribute 'currentQRubberBand'"
     ]
    },
    {
     "ename": "AttributeError",
     "evalue": "'Scene' object has no attribute 'currentQRubberBand'",
     "output_type": "error",
     "traceback": [
      "\u001b[1;31m---------------------------------------------------------------------------\u001b[0m",
      "\u001b[1;31mAttributeError\u001b[0m                            Traceback (most recent call last)",
      "\u001b[1;32mc:\\Users\\Artur.Abaidulov\\Projects\\Test_python_mp\\bitmappainter.ipynb Cell 13\u001b[0m in \u001b[0;36m1\n\u001b[0;32m     <a href='vscode-notebook-cell:/c%3A/Users/Artur.Abaidulov/Projects/Test_python_mp/bitmappainter.ipynb#X15sZmlsZQ%3D%3D?line=16'>17</a>\u001b[0m \u001b[39mdef\u001b[39;00m \u001b[39mmouseMoveEvent\u001b[39m(\u001b[39mself\u001b[39m, event):\n\u001b[1;32m---> <a href='vscode-notebook-cell:/c%3A/Users/Artur.Abaidulov/Projects/Test_python_mp/bitmappainter.ipynb#X15sZmlsZQ%3D%3D?line=17'>18</a>\u001b[0m     \u001b[39mself\u001b[39;49m\u001b[39m.\u001b[39;49mcurrentQRubberBand\u001b[39m.\u001b[39msetGeometry(QRect(\u001b[39mself\u001b[39m\u001b[39m.\u001b[39moriginQPoint, event\u001b[39m.\u001b[39mscreenPos()))\n\u001b[0;32m     <a href='vscode-notebook-cell:/c%3A/Users/Artur.Abaidulov/Projects/Test_python_mp/bitmappainter.ipynb#X15sZmlsZQ%3D%3D?line=18'>19</a>\u001b[0m     \u001b[39mself\u001b[39m\u001b[39m.\u001b[39mcurrentQRubberBand\u001b[39m.\u001b[39mshow()\n",
      "\u001b[1;31mAttributeError\u001b[0m: 'Scene' object has no attribute 'currentQRubberBand'"
     ]
    },
    {
     "ename": "AttributeError",
     "evalue": "'Scene' object has no attribute 'currentQRubberBand'",
     "output_type": "error",
     "traceback": [
      "\u001b[1;31m---------------------------------------------------------------------------\u001b[0m",
      "\u001b[1;31mAttributeError\u001b[0m                            Traceback (most recent call last)",
      "\u001b[1;32mc:\\Users\\Artur.Abaidulov\\Projects\\Test_python_mp\\bitmappainter.ipynb Cell 13\u001b[0m in \u001b[0;36m1\n\u001b[0;32m     <a href='vscode-notebook-cell:/c%3A/Users/Artur.Abaidulov/Projects/Test_python_mp/bitmappainter.ipynb#X15sZmlsZQ%3D%3D?line=16'>17</a>\u001b[0m \u001b[39mdef\u001b[39;00m \u001b[39mmouseMoveEvent\u001b[39m(\u001b[39mself\u001b[39m, event):\n\u001b[1;32m---> <a href='vscode-notebook-cell:/c%3A/Users/Artur.Abaidulov/Projects/Test_python_mp/bitmappainter.ipynb#X15sZmlsZQ%3D%3D?line=17'>18</a>\u001b[0m     \u001b[39mself\u001b[39;49m\u001b[39m.\u001b[39;49mcurrentQRubberBand\u001b[39m.\u001b[39msetGeometry(QRect(\u001b[39mself\u001b[39m\u001b[39m.\u001b[39moriginQPoint, event\u001b[39m.\u001b[39mscreenPos()))\n\u001b[0;32m     <a href='vscode-notebook-cell:/c%3A/Users/Artur.Abaidulov/Projects/Test_python_mp/bitmappainter.ipynb#X15sZmlsZQ%3D%3D?line=18'>19</a>\u001b[0m     \u001b[39mself\u001b[39m\u001b[39m.\u001b[39mcurrentQRubberBand\u001b[39m.\u001b[39mshow()\n",
      "\u001b[1;31mAttributeError\u001b[0m: 'Scene' object has no attribute 'currentQRubberBand'"
     ]
    },
    {
     "ename": "AttributeError",
     "evalue": "'Scene' object has no attribute 'currentQRubberBand'",
     "output_type": "error",
     "traceback": [
      "\u001b[1;31m---------------------------------------------------------------------------\u001b[0m",
      "\u001b[1;31mAttributeError\u001b[0m                            Traceback (most recent call last)",
      "\u001b[1;32mc:\\Users\\Artur.Abaidulov\\Projects\\Test_python_mp\\bitmappainter.ipynb Cell 13\u001b[0m in \u001b[0;36m1\n\u001b[0;32m     <a href='vscode-notebook-cell:/c%3A/Users/Artur.Abaidulov/Projects/Test_python_mp/bitmappainter.ipynb#X15sZmlsZQ%3D%3D?line=16'>17</a>\u001b[0m \u001b[39mdef\u001b[39;00m \u001b[39mmouseMoveEvent\u001b[39m(\u001b[39mself\u001b[39m, event):\n\u001b[1;32m---> <a href='vscode-notebook-cell:/c%3A/Users/Artur.Abaidulov/Projects/Test_python_mp/bitmappainter.ipynb#X15sZmlsZQ%3D%3D?line=17'>18</a>\u001b[0m     \u001b[39mself\u001b[39;49m\u001b[39m.\u001b[39;49mcurrentQRubberBand\u001b[39m.\u001b[39msetGeometry(QRect(\u001b[39mself\u001b[39m\u001b[39m.\u001b[39moriginQPoint, event\u001b[39m.\u001b[39mscreenPos()))\n\u001b[0;32m     <a href='vscode-notebook-cell:/c%3A/Users/Artur.Abaidulov/Projects/Test_python_mp/bitmappainter.ipynb#X15sZmlsZQ%3D%3D?line=18'>19</a>\u001b[0m     \u001b[39mself\u001b[39m\u001b[39m.\u001b[39mcurrentQRubberBand\u001b[39m.\u001b[39mshow()\n",
      "\u001b[1;31mAttributeError\u001b[0m: 'Scene' object has no attribute 'currentQRubberBand'"
     ]
    },
    {
     "ename": "AttributeError",
     "evalue": "'Scene' object has no attribute 'currentQRubberBand'",
     "output_type": "error",
     "traceback": [
      "\u001b[1;31m---------------------------------------------------------------------------\u001b[0m",
      "\u001b[1;31mAttributeError\u001b[0m                            Traceback (most recent call last)",
      "\u001b[1;32mc:\\Users\\Artur.Abaidulov\\Projects\\Test_python_mp\\bitmappainter.ipynb Cell 13\u001b[0m in \u001b[0;36m1\n\u001b[0;32m     <a href='vscode-notebook-cell:/c%3A/Users/Artur.Abaidulov/Projects/Test_python_mp/bitmappainter.ipynb#X15sZmlsZQ%3D%3D?line=16'>17</a>\u001b[0m \u001b[39mdef\u001b[39;00m \u001b[39mmouseMoveEvent\u001b[39m(\u001b[39mself\u001b[39m, event):\n\u001b[1;32m---> <a href='vscode-notebook-cell:/c%3A/Users/Artur.Abaidulov/Projects/Test_python_mp/bitmappainter.ipynb#X15sZmlsZQ%3D%3D?line=17'>18</a>\u001b[0m     \u001b[39mself\u001b[39;49m\u001b[39m.\u001b[39;49mcurrentQRubberBand\u001b[39m.\u001b[39msetGeometry(QRect(\u001b[39mself\u001b[39m\u001b[39m.\u001b[39moriginQPoint, event\u001b[39m.\u001b[39mscreenPos()))\n\u001b[0;32m     <a href='vscode-notebook-cell:/c%3A/Users/Artur.Abaidulov/Projects/Test_python_mp/bitmappainter.ipynb#X15sZmlsZQ%3D%3D?line=18'>19</a>\u001b[0m     \u001b[39mself\u001b[39m\u001b[39m.\u001b[39mcurrentQRubberBand\u001b[39m.\u001b[39mshow()\n",
      "\u001b[1;31mAttributeError\u001b[0m: 'Scene' object has no attribute 'currentQRubberBand'"
     ]
    },
    {
     "ename": "AttributeError",
     "evalue": "'Scene' object has no attribute 'currentQRubberBand'",
     "output_type": "error",
     "traceback": [
      "\u001b[1;31m---------------------------------------------------------------------------\u001b[0m",
      "\u001b[1;31mAttributeError\u001b[0m                            Traceback (most recent call last)",
      "\u001b[1;32mc:\\Users\\Artur.Abaidulov\\Projects\\Test_python_mp\\bitmappainter.ipynb Cell 13\u001b[0m in \u001b[0;36m1\n\u001b[0;32m     <a href='vscode-notebook-cell:/c%3A/Users/Artur.Abaidulov/Projects/Test_python_mp/bitmappainter.ipynb#X15sZmlsZQ%3D%3D?line=16'>17</a>\u001b[0m \u001b[39mdef\u001b[39;00m \u001b[39mmouseMoveEvent\u001b[39m(\u001b[39mself\u001b[39m, event):\n\u001b[1;32m---> <a href='vscode-notebook-cell:/c%3A/Users/Artur.Abaidulov/Projects/Test_python_mp/bitmappainter.ipynb#X15sZmlsZQ%3D%3D?line=17'>18</a>\u001b[0m     \u001b[39mself\u001b[39;49m\u001b[39m.\u001b[39;49mcurrentQRubberBand\u001b[39m.\u001b[39msetGeometry(QRect(\u001b[39mself\u001b[39m\u001b[39m.\u001b[39moriginQPoint, event\u001b[39m.\u001b[39mscreenPos()))\n\u001b[0;32m     <a href='vscode-notebook-cell:/c%3A/Users/Artur.Abaidulov/Projects/Test_python_mp/bitmappainter.ipynb#X15sZmlsZQ%3D%3D?line=18'>19</a>\u001b[0m     \u001b[39mself\u001b[39m\u001b[39m.\u001b[39mcurrentQRubberBand\u001b[39m.\u001b[39mshow()\n",
      "\u001b[1;31mAttributeError\u001b[0m: 'Scene' object has no attribute 'currentQRubberBand'"
     ]
    },
    {
     "ename": "AttributeError",
     "evalue": "'Scene' object has no attribute 'currentQRubberBand'",
     "output_type": "error",
     "traceback": [
      "\u001b[1;31m---------------------------------------------------------------------------\u001b[0m",
      "\u001b[1;31mAttributeError\u001b[0m                            Traceback (most recent call last)",
      "\u001b[1;32mc:\\Users\\Artur.Abaidulov\\Projects\\Test_python_mp\\bitmappainter.ipynb Cell 13\u001b[0m in \u001b[0;36m1\n\u001b[0;32m     <a href='vscode-notebook-cell:/c%3A/Users/Artur.Abaidulov/Projects/Test_python_mp/bitmappainter.ipynb#X15sZmlsZQ%3D%3D?line=16'>17</a>\u001b[0m \u001b[39mdef\u001b[39;00m \u001b[39mmouseMoveEvent\u001b[39m(\u001b[39mself\u001b[39m, event):\n\u001b[1;32m---> <a href='vscode-notebook-cell:/c%3A/Users/Artur.Abaidulov/Projects/Test_python_mp/bitmappainter.ipynb#X15sZmlsZQ%3D%3D?line=17'>18</a>\u001b[0m     \u001b[39mself\u001b[39;49m\u001b[39m.\u001b[39;49mcurrentQRubberBand\u001b[39m.\u001b[39msetGeometry(QRect(\u001b[39mself\u001b[39m\u001b[39m.\u001b[39moriginQPoint, event\u001b[39m.\u001b[39mscreenPos()))\n\u001b[0;32m     <a href='vscode-notebook-cell:/c%3A/Users/Artur.Abaidulov/Projects/Test_python_mp/bitmappainter.ipynb#X15sZmlsZQ%3D%3D?line=18'>19</a>\u001b[0m     \u001b[39mself\u001b[39m\u001b[39m.\u001b[39mcurrentQRubberBand\u001b[39m.\u001b[39mshow()\n",
      "\u001b[1;31mAttributeError\u001b[0m: 'Scene' object has no attribute 'currentQRubberBand'"
     ]
    },
    {
     "ename": "AttributeError",
     "evalue": "'Scene' object has no attribute 'currentQRubberBand'",
     "output_type": "error",
     "traceback": [
      "\u001b[1;31m---------------------------------------------------------------------------\u001b[0m",
      "\u001b[1;31mAttributeError\u001b[0m                            Traceback (most recent call last)",
      "\u001b[1;32mc:\\Users\\Artur.Abaidulov\\Projects\\Test_python_mp\\bitmappainter.ipynb Cell 13\u001b[0m in \u001b[0;36m1\n\u001b[0;32m     <a href='vscode-notebook-cell:/c%3A/Users/Artur.Abaidulov/Projects/Test_python_mp/bitmappainter.ipynb#X15sZmlsZQ%3D%3D?line=16'>17</a>\u001b[0m \u001b[39mdef\u001b[39;00m \u001b[39mmouseMoveEvent\u001b[39m(\u001b[39mself\u001b[39m, event):\n\u001b[1;32m---> <a href='vscode-notebook-cell:/c%3A/Users/Artur.Abaidulov/Projects/Test_python_mp/bitmappainter.ipynb#X15sZmlsZQ%3D%3D?line=17'>18</a>\u001b[0m     \u001b[39mself\u001b[39;49m\u001b[39m.\u001b[39;49mcurrentQRubberBand\u001b[39m.\u001b[39msetGeometry(QRect(\u001b[39mself\u001b[39m\u001b[39m.\u001b[39moriginQPoint, event\u001b[39m.\u001b[39mscreenPos()))\n\u001b[0;32m     <a href='vscode-notebook-cell:/c%3A/Users/Artur.Abaidulov/Projects/Test_python_mp/bitmappainter.ipynb#X15sZmlsZQ%3D%3D?line=18'>19</a>\u001b[0m     \u001b[39mself\u001b[39m\u001b[39m.\u001b[39mcurrentQRubberBand\u001b[39m.\u001b[39mshow()\n",
      "\u001b[1;31mAttributeError\u001b[0m: 'Scene' object has no attribute 'currentQRubberBand'"
     ]
    },
    {
     "ename": "AttributeError",
     "evalue": "'Scene' object has no attribute 'currentQRubberBand'",
     "output_type": "error",
     "traceback": [
      "\u001b[1;31m---------------------------------------------------------------------------\u001b[0m",
      "\u001b[1;31mAttributeError\u001b[0m                            Traceback (most recent call last)",
      "\u001b[1;32mc:\\Users\\Artur.Abaidulov\\Projects\\Test_python_mp\\bitmappainter.ipynb Cell 13\u001b[0m in \u001b[0;36m1\n\u001b[0;32m     <a href='vscode-notebook-cell:/c%3A/Users/Artur.Abaidulov/Projects/Test_python_mp/bitmappainter.ipynb#X15sZmlsZQ%3D%3D?line=16'>17</a>\u001b[0m \u001b[39mdef\u001b[39;00m \u001b[39mmouseMoveEvent\u001b[39m(\u001b[39mself\u001b[39m, event):\n\u001b[1;32m---> <a href='vscode-notebook-cell:/c%3A/Users/Artur.Abaidulov/Projects/Test_python_mp/bitmappainter.ipynb#X15sZmlsZQ%3D%3D?line=17'>18</a>\u001b[0m     \u001b[39mself\u001b[39;49m\u001b[39m.\u001b[39;49mcurrentQRubberBand\u001b[39m.\u001b[39msetGeometry(QRect(\u001b[39mself\u001b[39m\u001b[39m.\u001b[39moriginQPoint, event\u001b[39m.\u001b[39mscreenPos()))\n\u001b[0;32m     <a href='vscode-notebook-cell:/c%3A/Users/Artur.Abaidulov/Projects/Test_python_mp/bitmappainter.ipynb#X15sZmlsZQ%3D%3D?line=18'>19</a>\u001b[0m     \u001b[39mself\u001b[39m\u001b[39m.\u001b[39mcurrentQRubberBand\u001b[39m.\u001b[39mshow()\n",
      "\u001b[1;31mAttributeError\u001b[0m: 'Scene' object has no attribute 'currentQRubberBand'"
     ]
    },
    {
     "ename": "AttributeError",
     "evalue": "'Scene' object has no attribute 'currentQRubberBand'",
     "output_type": "error",
     "traceback": [
      "\u001b[1;31m---------------------------------------------------------------------------\u001b[0m",
      "\u001b[1;31mAttributeError\u001b[0m                            Traceback (most recent call last)",
      "\u001b[1;32mc:\\Users\\Artur.Abaidulov\\Projects\\Test_python_mp\\bitmappainter.ipynb Cell 13\u001b[0m in \u001b[0;36m1\n\u001b[0;32m     <a href='vscode-notebook-cell:/c%3A/Users/Artur.Abaidulov/Projects/Test_python_mp/bitmappainter.ipynb#X15sZmlsZQ%3D%3D?line=16'>17</a>\u001b[0m \u001b[39mdef\u001b[39;00m \u001b[39mmouseMoveEvent\u001b[39m(\u001b[39mself\u001b[39m, event):\n\u001b[1;32m---> <a href='vscode-notebook-cell:/c%3A/Users/Artur.Abaidulov/Projects/Test_python_mp/bitmappainter.ipynb#X15sZmlsZQ%3D%3D?line=17'>18</a>\u001b[0m     \u001b[39mself\u001b[39;49m\u001b[39m.\u001b[39;49mcurrentQRubberBand\u001b[39m.\u001b[39msetGeometry(QRect(\u001b[39mself\u001b[39m\u001b[39m.\u001b[39moriginQPoint, event\u001b[39m.\u001b[39mscreenPos()))\n\u001b[0;32m     <a href='vscode-notebook-cell:/c%3A/Users/Artur.Abaidulov/Projects/Test_python_mp/bitmappainter.ipynb#X15sZmlsZQ%3D%3D?line=18'>19</a>\u001b[0m     \u001b[39mself\u001b[39m\u001b[39m.\u001b[39mcurrentQRubberBand\u001b[39m.\u001b[39mshow()\n",
      "\u001b[1;31mAttributeError\u001b[0m: 'Scene' object has no attribute 'currentQRubberBand'"
     ]
    },
    {
     "ename": "AttributeError",
     "evalue": "'Scene' object has no attribute 'currentQRubberBand'",
     "output_type": "error",
     "traceback": [
      "\u001b[1;31m---------------------------------------------------------------------------\u001b[0m",
      "\u001b[1;31mAttributeError\u001b[0m                            Traceback (most recent call last)",
      "\u001b[1;32mc:\\Users\\Artur.Abaidulov\\Projects\\Test_python_mp\\bitmappainter.ipynb Cell 13\u001b[0m in \u001b[0;36m1\n\u001b[0;32m     <a href='vscode-notebook-cell:/c%3A/Users/Artur.Abaidulov/Projects/Test_python_mp/bitmappainter.ipynb#X15sZmlsZQ%3D%3D?line=16'>17</a>\u001b[0m \u001b[39mdef\u001b[39;00m \u001b[39mmouseMoveEvent\u001b[39m(\u001b[39mself\u001b[39m, event):\n\u001b[1;32m---> <a href='vscode-notebook-cell:/c%3A/Users/Artur.Abaidulov/Projects/Test_python_mp/bitmappainter.ipynb#X15sZmlsZQ%3D%3D?line=17'>18</a>\u001b[0m     \u001b[39mself\u001b[39;49m\u001b[39m.\u001b[39;49mcurrentQRubberBand\u001b[39m.\u001b[39msetGeometry(QRect(\u001b[39mself\u001b[39m\u001b[39m.\u001b[39moriginQPoint, event\u001b[39m.\u001b[39mscreenPos()))\n\u001b[0;32m     <a href='vscode-notebook-cell:/c%3A/Users/Artur.Abaidulov/Projects/Test_python_mp/bitmappainter.ipynb#X15sZmlsZQ%3D%3D?line=18'>19</a>\u001b[0m     \u001b[39mself\u001b[39m\u001b[39m.\u001b[39mcurrentQRubberBand\u001b[39m.\u001b[39mshow()\n",
      "\u001b[1;31mAttributeError\u001b[0m: 'Scene' object has no attribute 'currentQRubberBand'"
     ]
    },
    {
     "ename": "AttributeError",
     "evalue": "'Scene' object has no attribute 'currentQRubberBand'",
     "output_type": "error",
     "traceback": [
      "\u001b[1;31m---------------------------------------------------------------------------\u001b[0m",
      "\u001b[1;31mAttributeError\u001b[0m                            Traceback (most recent call last)",
      "\u001b[1;32mc:\\Users\\Artur.Abaidulov\\Projects\\Test_python_mp\\bitmappainter.ipynb Cell 13\u001b[0m in \u001b[0;36m1\n\u001b[0;32m     <a href='vscode-notebook-cell:/c%3A/Users/Artur.Abaidulov/Projects/Test_python_mp/bitmappainter.ipynb#X15sZmlsZQ%3D%3D?line=16'>17</a>\u001b[0m \u001b[39mdef\u001b[39;00m \u001b[39mmouseMoveEvent\u001b[39m(\u001b[39mself\u001b[39m, event):\n\u001b[1;32m---> <a href='vscode-notebook-cell:/c%3A/Users/Artur.Abaidulov/Projects/Test_python_mp/bitmappainter.ipynb#X15sZmlsZQ%3D%3D?line=17'>18</a>\u001b[0m     \u001b[39mself\u001b[39;49m\u001b[39m.\u001b[39;49mcurrentQRubberBand\u001b[39m.\u001b[39msetGeometry(QRect(\u001b[39mself\u001b[39m\u001b[39m.\u001b[39moriginQPoint, event\u001b[39m.\u001b[39mscreenPos()))\n\u001b[0;32m     <a href='vscode-notebook-cell:/c%3A/Users/Artur.Abaidulov/Projects/Test_python_mp/bitmappainter.ipynb#X15sZmlsZQ%3D%3D?line=18'>19</a>\u001b[0m     \u001b[39mself\u001b[39m\u001b[39m.\u001b[39mcurrentQRubberBand\u001b[39m.\u001b[39mshow()\n",
      "\u001b[1;31mAttributeError\u001b[0m: 'Scene' object has no attribute 'currentQRubberBand'"
     ]
    },
    {
     "ename": "AttributeError",
     "evalue": "'Scene' object has no attribute 'currentQRubberBand'",
     "output_type": "error",
     "traceback": [
      "\u001b[1;31m---------------------------------------------------------------------------\u001b[0m",
      "\u001b[1;31mAttributeError\u001b[0m                            Traceback (most recent call last)",
      "\u001b[1;32mc:\\Users\\Artur.Abaidulov\\Projects\\Test_python_mp\\bitmappainter.ipynb Cell 13\u001b[0m in \u001b[0;36m1\n\u001b[0;32m     <a href='vscode-notebook-cell:/c%3A/Users/Artur.Abaidulov/Projects/Test_python_mp/bitmappainter.ipynb#X15sZmlsZQ%3D%3D?line=16'>17</a>\u001b[0m \u001b[39mdef\u001b[39;00m \u001b[39mmouseMoveEvent\u001b[39m(\u001b[39mself\u001b[39m, event):\n\u001b[1;32m---> <a href='vscode-notebook-cell:/c%3A/Users/Artur.Abaidulov/Projects/Test_python_mp/bitmappainter.ipynb#X15sZmlsZQ%3D%3D?line=17'>18</a>\u001b[0m     \u001b[39mself\u001b[39;49m\u001b[39m.\u001b[39;49mcurrentQRubberBand\u001b[39m.\u001b[39msetGeometry(QRect(\u001b[39mself\u001b[39m\u001b[39m.\u001b[39moriginQPoint, event\u001b[39m.\u001b[39mscreenPos()))\n\u001b[0;32m     <a href='vscode-notebook-cell:/c%3A/Users/Artur.Abaidulov/Projects/Test_python_mp/bitmappainter.ipynb#X15sZmlsZQ%3D%3D?line=18'>19</a>\u001b[0m     \u001b[39mself\u001b[39m\u001b[39m.\u001b[39mcurrentQRubberBand\u001b[39m.\u001b[39mshow()\n",
      "\u001b[1;31mAttributeError\u001b[0m: 'Scene' object has no attribute 'currentQRubberBand'"
     ]
    },
    {
     "ename": "AttributeError",
     "evalue": "'Scene' object has no attribute 'currentQRubberBand'",
     "output_type": "error",
     "traceback": [
      "\u001b[1;31m---------------------------------------------------------------------------\u001b[0m",
      "\u001b[1;31mAttributeError\u001b[0m                            Traceback (most recent call last)",
      "\u001b[1;32mc:\\Users\\Artur.Abaidulov\\Projects\\Test_python_mp\\bitmappainter.ipynb Cell 13\u001b[0m in \u001b[0;36m1\n\u001b[0;32m     <a href='vscode-notebook-cell:/c%3A/Users/Artur.Abaidulov/Projects/Test_python_mp/bitmappainter.ipynb#X15sZmlsZQ%3D%3D?line=16'>17</a>\u001b[0m \u001b[39mdef\u001b[39;00m \u001b[39mmouseMoveEvent\u001b[39m(\u001b[39mself\u001b[39m, event):\n\u001b[1;32m---> <a href='vscode-notebook-cell:/c%3A/Users/Artur.Abaidulov/Projects/Test_python_mp/bitmappainter.ipynb#X15sZmlsZQ%3D%3D?line=17'>18</a>\u001b[0m     \u001b[39mself\u001b[39;49m\u001b[39m.\u001b[39;49mcurrentQRubberBand\u001b[39m.\u001b[39msetGeometry(QRect(\u001b[39mself\u001b[39m\u001b[39m.\u001b[39moriginQPoint, event\u001b[39m.\u001b[39mscreenPos()))\n\u001b[0;32m     <a href='vscode-notebook-cell:/c%3A/Users/Artur.Abaidulov/Projects/Test_python_mp/bitmappainter.ipynb#X15sZmlsZQ%3D%3D?line=18'>19</a>\u001b[0m     \u001b[39mself\u001b[39m\u001b[39m.\u001b[39mcurrentQRubberBand\u001b[39m.\u001b[39mshow()\n",
      "\u001b[1;31mAttributeError\u001b[0m: 'Scene' object has no attribute 'currentQRubberBand'"
     ]
    },
    {
     "ename": "AttributeError",
     "evalue": "'Scene' object has no attribute 'currentQRubberBand'",
     "output_type": "error",
     "traceback": [
      "\u001b[1;31m---------------------------------------------------------------------------\u001b[0m",
      "\u001b[1;31mAttributeError\u001b[0m                            Traceback (most recent call last)",
      "\u001b[1;32mc:\\Users\\Artur.Abaidulov\\Projects\\Test_python_mp\\bitmappainter.ipynb Cell 13\u001b[0m in \u001b[0;36m1\n\u001b[0;32m     <a href='vscode-notebook-cell:/c%3A/Users/Artur.Abaidulov/Projects/Test_python_mp/bitmappainter.ipynb#X15sZmlsZQ%3D%3D?line=16'>17</a>\u001b[0m \u001b[39mdef\u001b[39;00m \u001b[39mmouseMoveEvent\u001b[39m(\u001b[39mself\u001b[39m, event):\n\u001b[1;32m---> <a href='vscode-notebook-cell:/c%3A/Users/Artur.Abaidulov/Projects/Test_python_mp/bitmappainter.ipynb#X15sZmlsZQ%3D%3D?line=17'>18</a>\u001b[0m     \u001b[39mself\u001b[39;49m\u001b[39m.\u001b[39;49mcurrentQRubberBand\u001b[39m.\u001b[39msetGeometry(QRect(\u001b[39mself\u001b[39m\u001b[39m.\u001b[39moriginQPoint, event\u001b[39m.\u001b[39mscreenPos()))\n\u001b[0;32m     <a href='vscode-notebook-cell:/c%3A/Users/Artur.Abaidulov/Projects/Test_python_mp/bitmappainter.ipynb#X15sZmlsZQ%3D%3D?line=18'>19</a>\u001b[0m     \u001b[39mself\u001b[39m\u001b[39m.\u001b[39mcurrentQRubberBand\u001b[39m.\u001b[39mshow()\n",
      "\u001b[1;31mAttributeError\u001b[0m: 'Scene' object has no attribute 'currentQRubberBand'"
     ]
    },
    {
     "ename": "AttributeError",
     "evalue": "'Scene' object has no attribute 'currentQRubberBand'",
     "output_type": "error",
     "traceback": [
      "\u001b[1;31m---------------------------------------------------------------------------\u001b[0m",
      "\u001b[1;31mAttributeError\u001b[0m                            Traceback (most recent call last)",
      "\u001b[1;32mc:\\Users\\Artur.Abaidulov\\Projects\\Test_python_mp\\bitmappainter.ipynb Cell 13\u001b[0m in \u001b[0;36m1\n\u001b[0;32m     <a href='vscode-notebook-cell:/c%3A/Users/Artur.Abaidulov/Projects/Test_python_mp/bitmappainter.ipynb#X15sZmlsZQ%3D%3D?line=16'>17</a>\u001b[0m \u001b[39mdef\u001b[39;00m \u001b[39mmouseMoveEvent\u001b[39m(\u001b[39mself\u001b[39m, event):\n\u001b[1;32m---> <a href='vscode-notebook-cell:/c%3A/Users/Artur.Abaidulov/Projects/Test_python_mp/bitmappainter.ipynb#X15sZmlsZQ%3D%3D?line=17'>18</a>\u001b[0m     \u001b[39mself\u001b[39;49m\u001b[39m.\u001b[39;49mcurrentQRubberBand\u001b[39m.\u001b[39msetGeometry(QRect(\u001b[39mself\u001b[39m\u001b[39m.\u001b[39moriginQPoint, event\u001b[39m.\u001b[39mscreenPos()))\n\u001b[0;32m     <a href='vscode-notebook-cell:/c%3A/Users/Artur.Abaidulov/Projects/Test_python_mp/bitmappainter.ipynb#X15sZmlsZQ%3D%3D?line=18'>19</a>\u001b[0m     \u001b[39mself\u001b[39m\u001b[39m.\u001b[39mcurrentQRubberBand\u001b[39m.\u001b[39mshow()\n",
      "\u001b[1;31mAttributeError\u001b[0m: 'Scene' object has no attribute 'currentQRubberBand'"
     ]
    },
    {
     "ename": "AttributeError",
     "evalue": "'Scene' object has no attribute 'currentQRubberBand'",
     "output_type": "error",
     "traceback": [
      "\u001b[1;31m---------------------------------------------------------------------------\u001b[0m",
      "\u001b[1;31mAttributeError\u001b[0m                            Traceback (most recent call last)",
      "\u001b[1;32mc:\\Users\\Artur.Abaidulov\\Projects\\Test_python_mp\\bitmappainter.ipynb Cell 13\u001b[0m in \u001b[0;36m1\n\u001b[0;32m     <a href='vscode-notebook-cell:/c%3A/Users/Artur.Abaidulov/Projects/Test_python_mp/bitmappainter.ipynb#X15sZmlsZQ%3D%3D?line=16'>17</a>\u001b[0m \u001b[39mdef\u001b[39;00m \u001b[39mmouseMoveEvent\u001b[39m(\u001b[39mself\u001b[39m, event):\n\u001b[1;32m---> <a href='vscode-notebook-cell:/c%3A/Users/Artur.Abaidulov/Projects/Test_python_mp/bitmappainter.ipynb#X15sZmlsZQ%3D%3D?line=17'>18</a>\u001b[0m     \u001b[39mself\u001b[39;49m\u001b[39m.\u001b[39;49mcurrentQRubberBand\u001b[39m.\u001b[39msetGeometry(QRect(\u001b[39mself\u001b[39m\u001b[39m.\u001b[39moriginQPoint, event\u001b[39m.\u001b[39mscreenPos()))\n\u001b[0;32m     <a href='vscode-notebook-cell:/c%3A/Users/Artur.Abaidulov/Projects/Test_python_mp/bitmappainter.ipynb#X15sZmlsZQ%3D%3D?line=18'>19</a>\u001b[0m     \u001b[39mself\u001b[39m\u001b[39m.\u001b[39mcurrentQRubberBand\u001b[39m.\u001b[39mshow()\n",
      "\u001b[1;31mAttributeError\u001b[0m: 'Scene' object has no attribute 'currentQRubberBand'"
     ]
    },
    {
     "ename": "AttributeError",
     "evalue": "'Scene' object has no attribute 'currentQRubberBand'",
     "output_type": "error",
     "traceback": [
      "\u001b[1;31m---------------------------------------------------------------------------\u001b[0m",
      "\u001b[1;31mAttributeError\u001b[0m                            Traceback (most recent call last)",
      "\u001b[1;32mc:\\Users\\Artur.Abaidulov\\Projects\\Test_python_mp\\bitmappainter.ipynb Cell 13\u001b[0m in \u001b[0;36m2\n\u001b[0;32m     <a href='vscode-notebook-cell:/c%3A/Users/Artur.Abaidulov/Projects/Test_python_mp/bitmappainter.ipynb#X15sZmlsZQ%3D%3D?line=20'>21</a>\u001b[0m \u001b[39mdef\u001b[39;00m \u001b[39mmouseReleaseEvent\u001b[39m(\u001b[39mself\u001b[39m, event):\n\u001b[1;32m---> <a href='vscode-notebook-cell:/c%3A/Users/Artur.Abaidulov/Projects/Test_python_mp/bitmappainter.ipynb#X15sZmlsZQ%3D%3D?line=21'>22</a>\u001b[0m     \u001b[39mself\u001b[39;49m\u001b[39m.\u001b[39;49mcurrentQRubberBand\u001b[39m.\u001b[39mhide()\n\u001b[0;32m     <a href='vscode-notebook-cell:/c%3A/Users/Artur.Abaidulov/Projects/Test_python_mp/bitmappainter.ipynb#X15sZmlsZQ%3D%3D?line=22'>23</a>\u001b[0m     currentQRect \u001b[39m=\u001b[39m \u001b[39mself\u001b[39m\u001b[39m.\u001b[39mcurrentQRubberBand\u001b[39m.\u001b[39mgeometry()\n\u001b[0;32m     <a href='vscode-notebook-cell:/c%3A/Users/Artur.Abaidulov/Projects/Test_python_mp/bitmappainter.ipynb#X15sZmlsZQ%3D%3D?line=23'>24</a>\u001b[0m     \u001b[39mself\u001b[39m\u001b[39m.\u001b[39mcurrentQRect \u001b[39m=\u001b[39m QRect(\u001b[39mself\u001b[39m\u001b[39m.\u001b[39moriginCropPoint\u001b[39m.\u001b[39mtoPoint(), event\u001b[39m.\u001b[39mscenePos()\u001b[39m.\u001b[39mtoPoint())\n",
      "\u001b[1;31mAttributeError\u001b[0m: 'Scene' object has no attribute 'currentQRubberBand'"
     ]
    },
    {
     "ename": "NameError",
     "evalue": "name 'QtWidgets' is not defined",
     "output_type": "error",
     "traceback": [
      "\u001b[1;31m---------------------------------------------------------------------------\u001b[0m",
      "\u001b[1;31mNameError\u001b[0m                                 Traceback (most recent call last)",
      "\u001b[1;32mc:\\Users\\Artur.Abaidulov\\Projects\\Test_python_mp\\bitmappainter.ipynb Cell 13\u001b[0m in \u001b[0;36m1\n\u001b[0;32m     <a href='vscode-notebook-cell:/c%3A/Users/Artur.Abaidulov/Projects/Test_python_mp/bitmappainter.ipynb#X15sZmlsZQ%3D%3D?line=11'>12</a>\u001b[0m \u001b[39mdef\u001b[39;00m \u001b[39mmousePressEvent\u001b[39m(\u001b[39mself\u001b[39m, event):\n\u001b[0;32m     <a href='vscode-notebook-cell:/c%3A/Users/Artur.Abaidulov/Projects/Test_python_mp/bitmappainter.ipynb#X15sZmlsZQ%3D%3D?line=12'>13</a>\u001b[0m     \u001b[39mself\u001b[39m\u001b[39m.\u001b[39moriginQPoint \u001b[39m=\u001b[39m event\u001b[39m.\u001b[39mscreenPos()\n\u001b[1;32m---> <a href='vscode-notebook-cell:/c%3A/Users/Artur.Abaidulov/Projects/Test_python_mp/bitmappainter.ipynb#X15sZmlsZQ%3D%3D?line=13'>14</a>\u001b[0m     \u001b[39mself\u001b[39m\u001b[39m.\u001b[39mcurrentQRubberBand \u001b[39m=\u001b[39m QtWidgets\u001b[39m.\u001b[39mQRubberBand(QRubberBand\u001b[39m.\u001b[39mRectangle)\n\u001b[0;32m     <a href='vscode-notebook-cell:/c%3A/Users/Artur.Abaidulov/Projects/Test_python_mp/bitmappainter.ipynb#X15sZmlsZQ%3D%3D?line=14'>15</a>\u001b[0m     \u001b[39mself\u001b[39m\u001b[39m.\u001b[39moriginCropPoint \u001b[39m=\u001b[39m event\u001b[39m.\u001b[39mscenePos()\n",
      "\u001b[1;31mNameError\u001b[0m: name 'QtWidgets' is not defined"
     ]
    },
    {
     "ename": "AttributeError",
     "evalue": "'Scene' object has no attribute 'currentQRubberBand'",
     "output_type": "error",
     "traceback": [
      "\u001b[1;31m---------------------------------------------------------------------------\u001b[0m",
      "\u001b[1;31mAttributeError\u001b[0m                            Traceback (most recent call last)",
      "\u001b[1;32mc:\\Users\\Artur.Abaidulov\\Projects\\Test_python_mp\\bitmappainter.ipynb Cell 13\u001b[0m in \u001b[0;36m1\n\u001b[0;32m     <a href='vscode-notebook-cell:/c%3A/Users/Artur.Abaidulov/Projects/Test_python_mp/bitmappainter.ipynb#X15sZmlsZQ%3D%3D?line=16'>17</a>\u001b[0m \u001b[39mdef\u001b[39;00m \u001b[39mmouseMoveEvent\u001b[39m(\u001b[39mself\u001b[39m, event):\n\u001b[1;32m---> <a href='vscode-notebook-cell:/c%3A/Users/Artur.Abaidulov/Projects/Test_python_mp/bitmappainter.ipynb#X15sZmlsZQ%3D%3D?line=17'>18</a>\u001b[0m     \u001b[39mself\u001b[39;49m\u001b[39m.\u001b[39;49mcurrentQRubberBand\u001b[39m.\u001b[39msetGeometry(QRect(\u001b[39mself\u001b[39m\u001b[39m.\u001b[39moriginQPoint, event\u001b[39m.\u001b[39mscreenPos()))\n\u001b[0;32m     <a href='vscode-notebook-cell:/c%3A/Users/Artur.Abaidulov/Projects/Test_python_mp/bitmappainter.ipynb#X15sZmlsZQ%3D%3D?line=18'>19</a>\u001b[0m     \u001b[39mself\u001b[39m\u001b[39m.\u001b[39mcurrentQRubberBand\u001b[39m.\u001b[39mshow()\n",
      "\u001b[1;31mAttributeError\u001b[0m: 'Scene' object has no attribute 'currentQRubberBand'"
     ]
    },
    {
     "ename": "AttributeError",
     "evalue": "'Scene' object has no attribute 'currentQRubberBand'",
     "output_type": "error",
     "traceback": [
      "\u001b[1;31m---------------------------------------------------------------------------\u001b[0m",
      "\u001b[1;31mAttributeError\u001b[0m                            Traceback (most recent call last)",
      "\u001b[1;32mc:\\Users\\Artur.Abaidulov\\Projects\\Test_python_mp\\bitmappainter.ipynb Cell 13\u001b[0m in \u001b[0;36m2\n\u001b[0;32m     <a href='vscode-notebook-cell:/c%3A/Users/Artur.Abaidulov/Projects/Test_python_mp/bitmappainter.ipynb#X15sZmlsZQ%3D%3D?line=20'>21</a>\u001b[0m \u001b[39mdef\u001b[39;00m \u001b[39mmouseReleaseEvent\u001b[39m(\u001b[39mself\u001b[39m, event):\n\u001b[1;32m---> <a href='vscode-notebook-cell:/c%3A/Users/Artur.Abaidulov/Projects/Test_python_mp/bitmappainter.ipynb#X15sZmlsZQ%3D%3D?line=21'>22</a>\u001b[0m     \u001b[39mself\u001b[39;49m\u001b[39m.\u001b[39;49mcurrentQRubberBand\u001b[39m.\u001b[39mhide()\n\u001b[0;32m     <a href='vscode-notebook-cell:/c%3A/Users/Artur.Abaidulov/Projects/Test_python_mp/bitmappainter.ipynb#X15sZmlsZQ%3D%3D?line=22'>23</a>\u001b[0m     currentQRect \u001b[39m=\u001b[39m \u001b[39mself\u001b[39m\u001b[39m.\u001b[39mcurrentQRubberBand\u001b[39m.\u001b[39mgeometry()\n\u001b[0;32m     <a href='vscode-notebook-cell:/c%3A/Users/Artur.Abaidulov/Projects/Test_python_mp/bitmappainter.ipynb#X15sZmlsZQ%3D%3D?line=23'>24</a>\u001b[0m     \u001b[39mself\u001b[39m\u001b[39m.\u001b[39mcurrentQRect \u001b[39m=\u001b[39m QRect(\u001b[39mself\u001b[39m\u001b[39m.\u001b[39moriginCropPoint\u001b[39m.\u001b[39mtoPoint(), event\u001b[39m.\u001b[39mscenePos()\u001b[39m.\u001b[39mtoPoint())\n",
      "\u001b[1;31mAttributeError\u001b[0m: 'Scene' object has no attribute 'currentQRubberBand'"
     ]
    },
    {
     "ename": "SystemExit",
     "evalue": "0",
     "output_type": "error",
     "traceback": [
      "An exception has occurred, use %tb to see the full traceback.\n",
      "\u001b[1;31mSystemExit\u001b[0m\u001b[1;31m:\u001b[0m 0\n"
     ]
    },
    {
     "name": "stderr",
     "output_type": "stream",
     "text": [
      "c:\\Users\\Artur.Abaidulov\\AppData\\Local\\Programs\\Python\\Python39\\lib\\site-packages\\IPython\\core\\interactiveshell.py:3441: UserWarning: To exit: use 'exit', 'quit', or Ctrl-D.\n",
      "  warn(\"To exit: use 'exit', 'quit', or Ctrl-D.\", stacklevel=1)\n"
     ]
    }
   ],
   "source": [
    "from PyQt5.QtWidgets import *\n",
    "from PyQt5.QtGui import *\n",
    "from PyQt5.QtCore import *\n",
    "\n",
    "\n",
    "import sys\n",
    "class MyView(QGraphicsView):\n",
    "    # Olaf -- Данная функция найдена на просторах интернета, и позволяет сцене прокручиваться средней кнопкой мыши если поле не влазает \n",
    "    # Я рад, теперь осталось набрать объектов в поле.\n",
    "    def mousePressEvent(self, event):\n",
    "        if event.button() == Qt.MidButton: # or Qt.MiddleButton\n",
    "            self.__prevMousePos = event.pos()\n",
    "        else:\n",
    "            super(MyView, self).mousePressEvent(event)\n",
    "\n",
    "    def mouseMoveEvent(self, event):\n",
    "        if event.buttons() == Qt.MidButton: # or Qt.MiddleButton\n",
    "            offset = self.__prevMousePos - event.pos()\n",
    "            self.__prevMousePos = event.pos()\n",
    "\n",
    "            self.verticalScrollBar().setValue(self.verticalScrollBar().value() + offset.y())\n",
    "            self.horizontalScrollBar().setValue(self.horizontalScrollBar().value() + offset.x())\n",
    "        else:\n",
    "            super(MyView, self).mouseMoveEvent(event)\n",
    "\n",
    "\n",
    "class DragButton(QPushButton):\n",
    "\n",
    "    def mouseMoveEvent(self, e):\n",
    "\n",
    "        if e.buttons() == Qt.LeftButton:\n",
    "            drag = QDrag(self)\n",
    "            mime = QMimeData()\n",
    "            drag.setMimeData(mime)\n",
    "            drag.exec_(Qt.MoveAction)\n",
    "\n",
    "class GraphicView(QGraphicsView):\n",
    "    def __init__(self):\n",
    "        super().__init__()\n",
    "\n",
    "        self.scene = QGraphicsScene(self)\n",
    "          \n",
    "        self.sceneRect().width(30)\n",
    "        self.sceneRect().height(30)\n",
    "        #self.setScene(self.scene)     \n",
    "\n",
    "        rect_item = self.scene.addRect(QRectF(5, 5, 50, 50))\n",
    "        rect_item.setPen(QPen(QColor(\"green\")))\n",
    "\n",
    "\n",
    "class Color(QWidget):\n",
    "\n",
    "    def __init__(self, color):\n",
    "        super(Color, self).__init__()\n",
    "        self.setAutoFillBackground(True)\n",
    "\n",
    "        palette = self.palette()\n",
    "        palette.setColor(QPalette.Window, QColor(color))\n",
    "        self.setPalette(palette)\n",
    "\n",
    "class MainApp(QMainWindow):\n",
    "    \"\"\"This is the class of the MainApp GUI system\"\"\"\n",
    "    def __init__(self):\n",
    "        \"\"\"Constructor method that inherits methods from QWidgets\"\"\"\n",
    "        super().__init__()\n",
    "        self.initUI()\n",
    "    def dragEnterEvent(self, e):\n",
    "        e.accept()\n",
    "\n",
    "    def dropEvent(self, e):\n",
    "        pos = e.pos()\n",
    "        widget = e.source()\n",
    "\n",
    "        for n in range(self.blayout.count()):\n",
    "            # Get the widget at each index in turn.\n",
    "            w = self.blayout.itemAt(n).widget()\n",
    "            if pos.x() < w.x() + w.size().width() // 2:\n",
    "                # We didn't drag past this widget.\n",
    "                # insert to the left of it.\n",
    "                self.blayout.insertWidget(n-1, widget)\n",
    "                break\n",
    "\n",
    "        e.accept()\n",
    "\n",
    "    def initUI(self):\n",
    "        \"\"\"This method creates our GUI\"\"\"\n",
    "        \n",
    "        self.setWindowTitle(\"My App\")\n",
    "        \n",
    "\n",
    "        layout_grid_main = QGridLayout()\n",
    "        \n",
    "\n",
    "\n",
    "        scene = QGraphicsScene()\n",
    "        scene.setSceneRect(0, 0, 2700, 2700)\n",
    "        scene.views\n",
    "        \n",
    "        model1 = MyView(scene)\n",
    "        model2 = MyView(scene)\n",
    "        model2.setStyleSheet(\"background:black;\")\n",
    "        model2.rubberBandRect()\n",
    "        #model1.setDragEnabled(True)\n",
    "  \n",
    "\n",
    "        #model.scene = scen\n",
    "        layout_grid_main.addWidget(QLabel(\"1\"), 0, 0)\n",
    "        layout_grid_main.addWidget(model2, 0, 1, 1, 3)\n",
    "        layout_grid_main.addWidget(QLabel(\"3\"), 1, 0, 1, 2)\n",
    "        layout_grid_main.addWidget(model1, 1, 2, 1, 2)\n",
    "\n",
    "        qsrand(QTime.currentTime().msec())\n",
    "\n",
    "        widget = QWidget()\n",
    "        widget.setLayout(layout_grid_main)\n",
    "        self.setCentralWidget(widget)\n",
    "        self.show()\n",
    "if __name__ == '__main__':\n",
    "    app = QApplication(sys.argv)\n",
    "    w = MainApp()\n",
    "    sys.exit(app.exec_())"
   ]
  },
  {
   "cell_type": "code",
   "execution_count": null,
   "metadata": {},
   "outputs": [],
   "source": []
  }
 ],
 "metadata": {
  "kernelspec": {
   "display_name": "Python 3",
   "language": "python",
   "name": "python3"
  },
  "language_info": {
   "codemirror_mode": {
    "name": "ipython",
    "version": 3
   },
   "file_extension": ".py",
   "mimetype": "text/x-python",
   "name": "python",
   "nbconvert_exporter": "python",
   "pygments_lexer": "ipython3",
   "version": "3.9.2"
  },
  "orig_nbformat": 4
 },
 "nbformat": 4,
 "nbformat_minor": 2
}
