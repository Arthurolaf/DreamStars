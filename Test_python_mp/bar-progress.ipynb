{
 "cells": [
  {
   "cell_type": "code",
   "execution_count": 1,
   "metadata": {},
   "outputs": [
    {
     "ename": "SystemExit",
     "evalue": "0",
     "output_type": "error",
     "traceback": [
      "An exception has occurred, use %tb to see the full traceback.\n",
      "\u001b[1;31mSystemExit\u001b[0m\u001b[1;31m:\u001b[0m 0\n"
     ]
    },
    {
     "name": "stderr",
     "output_type": "stream",
     "text": [
      "c:\\Users\\Artur.Abaidulov\\AppData\\Local\\Programs\\Python\\Python39\\lib\\site-packages\\IPython\\core\\interactiveshell.py:3441: UserWarning: To exit: use 'exit', 'quit', or Ctrl-D.\n",
      "  warn(\"To exit: use 'exit', 'quit', or Ctrl-D.\", stacklevel=1)\n"
     ]
    }
   ],
   "source": [
    "# importing libraries\n",
    "from PyQt5.QtWidgets import *\n",
    "from PyQt5 import QtCore, QtGui\n",
    "from PyQt5.QtGui import *\n",
    "from PyQt5.QtCore import *\n",
    "import sys\n",
    "\n",
    "\n",
    "class Window(QMainWindow):\n",
    "\n",
    "\tdef __init__(self):\n",
    "\t\tsuper().__init__()\n",
    "\n",
    "\t\t# setting title\n",
    "\t\tself.setWindowTitle(\"Python \")\n",
    "\n",
    "\t\t# setting background color to window\n",
    "\t\tself.setStyleSheet(\"background-color : yellow\")\n",
    "\n",
    "\t\t# setting geometry\n",
    "\t\tself.setGeometry(100, 100, 600, 400)\n",
    "\n",
    "\t\t# calling method\n",
    "\t\tself.UiComponents()\n",
    "\n",
    "\t\t# showing all the widgets\n",
    "\t\tself.show()\n",
    "\n",
    "\t# method for widgets\n",
    "\tdef UiComponents(self):\n",
    "\t\t# creating progress bar\n",
    "\t\tbar = QProgressBar(self)\n",
    "\n",
    "\t\t# setting geometry to progress bar\n",
    "\t\tbar.setGeometry(200, 100, 200, 30)\n",
    "\n",
    "\t\t# setting the value\n",
    "\t\tbar.setValue(30)\n",
    "\n",
    "\t\t# setting alignment to center\n",
    "\t\tbar.setAlignment(Qt.AlignCenter)\n",
    "\n",
    "\t\t# setting background to invisible\n",
    "\t\tbar.setStyleSheet(\"QProgressBar\"\n",
    "\t\t\t\t\t\t\"{\"\n",
    "\t\t\t\t\t\t\"background-color : rgba(0, 0, 0, 0);\"\n",
    "\t\t\t\t\t\t\"border : 1px\"\n",
    "\t\t\t\t\t\t\"}\")\n",
    "\n",
    "\n",
    "App = QApplication(sys.argv)\n",
    "\n",
    "# create the instance of our Window\n",
    "window = Window()\n",
    "\n",
    "# start the app\n",
    "sys.exit(App.exec())\n"
   ]
  }
 ],
 "metadata": {
  "kernelspec": {
   "display_name": "Python 3",
   "language": "python",
   "name": "python3"
  },
  "language_info": {
   "codemirror_mode": {
    "name": "ipython",
    "version": 3
   },
   "file_extension": ".py",
   "mimetype": "text/x-python",
   "name": "python",
   "nbconvert_exporter": "python",
   "pygments_lexer": "ipython3",
   "version": "3.9.2"
  },
  "orig_nbformat": 4
 },
 "nbformat": 4,
 "nbformat_minor": 2
}
